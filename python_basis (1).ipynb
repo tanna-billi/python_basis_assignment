{
  "nbformat": 4,
  "nbformat_minor": 0,
  "metadata": {
    "colab": {
      "provenance": []
    },
    "kernelspec": {
      "name": "python3",
      "display_name": "Python 3"
    },
    "language_info": {
      "name": "python"
    }
  },
  "cells": [
    {
      "cell_type": "code",
      "execution_count": null,
      "metadata": {
        "id": "RzHrJjpe7JA-"
      },
      "outputs": [],
      "source": []
    },
    {
      "cell_type": "markdown",
      "source": [
        "NAME : TANNU\n",
        "MAIL : tannu8447113689"
      ],
      "metadata": {
        "id": "T6rzpIIhkfYq"
      }
    },
    {
      "cell_type": "markdown",
      "source": [
        "# PYTHON BASIS"
      ],
      "metadata": {
        "id": "IF0TNNIj78k0"
      }
    },
    {
      "cell_type": "markdown",
      "source": [
        "#### Python Basics Questions"
      ],
      "metadata": {
        "id": "FJ-mNZOvodww"
      }
    },
    {
      "cell_type": "markdown",
      "source": [
        "1.  What is Python, and why is it popular ?\n",
        "  - Python is a programing language that used for the web developing, App developing and Data analyst etc.\n",
        "  - python is case sensitive language.\n",
        "  - python is very popular language to others programing language bcz it has lots of library and very close to the english language.\n",
        "\n",
        "2. What is an interpreter in Python ?\n",
        "  - A Python interpreter is a program that reads and executes Python code. It translates Python code into machine code, which the computer can understand and run.\n",
        "\n",
        "3. What are pre-defined keywords in Python ?\n",
        "  - Keywords in Python are predefined reserved words with special meanings so the interpreter can understand them. They perform specific tasks in Python programming and are a part of its syntax.\n",
        "\n",
        "4. Can keywords be used as variable names ?\n",
        "  - No, we can't used keywords as variable names because they are reserved words with predefined meanings in programming languages, and using them as variable names would lead to syntax errors.\n",
        "\n",
        "5. What is mutability in Python ?\n",
        "  - In Python, mutability refers to an object's ability to be changed after it's created; mutable objects can be modified in place,  List is a mutable in python.\n",
        "\n",
        "6. Why are lists mutable, but tuples are immutable ?\n",
        "  - Tuples and lists are the same in every way except two: tuples use parentheses instead of square brackets, and the items in tuples cannot be modified (but the items in lists can be modified). We often call lists mutable (meaning they can be changed) and tuples immutable (meaning they cannot be changed).\n",
        "\n",
        "7. What is the difference between “==” and “is” operators in Python ?\n",
        "  - In Python, == checks for value equality (whether two objects have the same value), while is checks for object identity (whether two variables point to the same object in memory)\n",
        "  \n",
        "\n",
        "\n",
        "\n",
        "\n"
      ],
      "metadata": {
        "id": "XUJ1R9h48YTt"
      }
    },
    {
      "cell_type": "code",
      "source": [
        "'''# 7. What is the difference between “==” and “is” operators in Python ?\n",
        "# == (equality operator)\n",
        "# Compares the values of two objects.\n",
        "# Returns True if the values are equal, False otherwise.\n",
        "1 == 1 # True\n",
        "1 == 2 # False\n",
        "\"hello\" == \"hello\" # True\n",
        "\"hello\" == \"world\" # False'''"
      ],
      "metadata": {
        "colab": {
          "base_uri": "https://localhost:8080/"
        },
        "id": "ekzv-_8eJWnx",
        "outputId": "e1f31175-8822-45d3-ccba-498c3e58e3cf"
      },
      "execution_count": null,
      "outputs": [
        {
          "output_type": "execute_result",
          "data": {
            "text/plain": [
              "False"
            ]
          },
          "metadata": {},
          "execution_count": 1
        }
      ]
    },
    {
      "cell_type": "code",
      "source": [
        "'''# is Identity Operator\n",
        "a = [1,2,3]\n",
        "a = b\n",
        "print(a is b) #True (because a and b are the same list object).\n",
        "\n",
        "a = [1, 2, 3];\n",
        "b = [1, 2, 3];\n",
        "print(a is b) # False  (because a and b are different list objects with the same value).'''"
      ],
      "metadata": {
        "id": "rHhBCoTaIuci"
      },
      "execution_count": null,
      "outputs": []
    },
    {
      "cell_type": "markdown",
      "source": [
        "8. What are logical operators in Python ?\n",
        "  - In Python, logical operators, and, or, and not, are used to combine or reverse boolean expressions, resulting in a new boolean value (True or False).\n",
        "\n",
        "9. What is type casting in Python ?  \n",
        "  - In Python, type casting (also known as type conversion) is the process of converting a variable's data type to another, enabling flexible operations and data manipulation.\n",
        "Here's a breakdown:\n",
        "What it is:\n",
        "Type casting allows you to change the data type of a variable, such as converting an integer to a float, a string to an integer, or vice versa.\n",
        "  - Types of Type Casting:\n",
        "    1. Implicit Type\n",
        "    2. Explicit Type\n",
        "\n",
        "   \n",
        "\n",
        "10. What is the difference between implicit and explicit type casting ?\n",
        "- Implicit type casting is automatic, while explicit type casting is done by the programmer.\n",
        "  - Implicit Type Conversion: Python automatically converts data types in certain situations, like when performing operations on mixed data types (e.g., adding an integer and a float).\n",
        "\n",
        "  - Explicit Type Conversion: You use Python's built-in functions (like int(), float(), str(), etc.) to manually convert data types.\n",
        "\n",
        "- Examples:\n",
        "\n",
        "  1. int(3.14) converts the float 3.14 to the integer 3.\n",
        "  2. float(5) converts the integer 5 to the float 5.0.\n",
        "  3. str(123) converts the integer 123 to the string \"123\".\n",
        "  4. int(\"123\") converts the string \"123\" to the integer 123.\n",
        "\n",
        "11. What is the purpose of conditional statements in Python ?\n",
        "- Conditional statements in Python, like if, elif, and else, allow your program to make decisions and execute different code blocks based on whether a condition is true or false, enabling dynamic and flexible program behavior.\n",
        "\n",
        "12. How does the elif statement work ?\n",
        "- The “elif” keyword in Python, stands for “else if”. It can be used in conditional statements to check for multiple conditions. For example,\n",
        "  -  if the first condition is false, it moves on to the next “elif” statement to check if that condition is true.\n",
        "\n",
        "13. What is the difference between for and while loops ?\n",
        "- The key difference between \"for\" and \"while\" loops lies in their iteration\n",
        "control: \"for\" loops are used when the number of iterations is known beforehand, while \"while\" loops repeat until a condition is met, making them suitable for situations where the number of iterations is unknown.\n",
        "\n",
        "14. Describe a scenario where a while loop is more suitable than a for loop ?\n",
        "- You don't know how many lines the file contains, so you need a loop that keeps reading line by line until there are no more lines to read. In such a case, a \"While Loop\" is more appropriate because the number of iterations needed isn't known in advance—it depends on the file's content."
      ],
      "metadata": {
        "id": "Z6FK5JEyhKg5"
      }
    },
    {
      "cell_type": "markdown",
      "source": [
        "Practical Questions"
      ],
      "metadata": {
        "id": "4u5yJVtHo3fN"
      }
    },
    {
      "cell_type": "code",
      "source": [
        "# 1. Write a Python program to print \"Hello, World!\n",
        "'''print(\"Hello, World !\")'''"
      ],
      "metadata": {
        "colab": {
          "base_uri": "https://localhost:8080/"
        },
        "id": "sEBtDUw_o9Ua",
        "outputId": "c1aff43b-4bf5-4a98-a299-7dc14075a01d"
      },
      "execution_count": null,
      "outputs": [
        {
          "output_type": "stream",
          "name": "stdout",
          "text": [
            "Hello, World !\n"
          ]
        }
      ]
    },
    {
      "cell_type": "code",
      "source": [
        "# 2. Write a Python program that displays your name and age\n",
        "'''name =  input(\"enter name : \")\n",
        "age = input(\"enter age : \")\n",
        "print(\"Hi, my name is \" + name + \", and I am \" + age + \" years old\")'''"
      ],
      "metadata": {
        "colab": {
          "base_uri": "https://localhost:8080/"
        },
        "id": "8ElynkgepQxN",
        "outputId": "e0fe2719-be7c-480a-f509-23cfc9f33306"
      },
      "execution_count": null,
      "outputs": [
        {
          "output_type": "stream",
          "name": "stdout",
          "text": [
            "enter name : Tannu\n",
            "enter age : 25\n",
            "Hi, my name is Tannu, and I am 25 years old\n"
          ]
        }
      ]
    },
    {
      "cell_type": "code",
      "source": [
        "# 3. Write code to print all the pre-defined keywords in Python using the keyword library\n",
        "'''\n",
        "help(\"keywords\")'''"
      ],
      "metadata": {
        "colab": {
          "base_uri": "https://localhost:8080/"
        },
        "id": "1DfKqY0mrmoy",
        "outputId": "6b72e00c-f4c3-4ee2-ed71-3036747febb3"
      },
      "execution_count": null,
      "outputs": [
        {
          "output_type": "stream",
          "name": "stdout",
          "text": [
            "\n",
            "Here is a list of the Python keywords.  Enter any keyword to get more help.\n",
            "\n",
            "False               class               from                or\n",
            "None                continue            global              pass\n",
            "True                def                 if                  raise\n",
            "and                 del                 import              return\n",
            "as                  elif                in                  try\n",
            "assert              else                is                  while\n",
            "async               except              lambda              with\n",
            "await               finally             nonlocal            yield\n",
            "break               for                 not                 \n",
            "\n"
          ]
        }
      ]
    },
    {
      "cell_type": "code",
      "source": [
        "# 4. Write a program that checks if a given word is a Python keyword\n",
        "'''\n",
        "word = \"python\"\n",
        "if \"a\" in word:\n",
        "  print(word)\n",
        "else:\n",
        "  print(\"not found\")\n",
        "'''"
      ],
      "metadata": {
        "colab": {
          "base_uri": "https://localhost:8080/"
        },
        "id": "-hHexsseuYSs",
        "outputId": "7b8c04c6-3d56-4658-a407-dcdc11449069"
      },
      "execution_count": null,
      "outputs": [
        {
          "output_type": "stream",
          "name": "stdout",
          "text": [
            "not found\n"
          ]
        }
      ]
    },
    {
      "cell_type": "code",
      "source": [
        "# 5.  Create a list and tuple in Python, and demonstrate how attempting to change an element works differently for each0\n",
        "# create a list\n",
        "'''create_list = [1, 2, 3, \"Tannu\", \"Apple\",]\n",
        "\n",
        "#create a tuple\n",
        "create_tuple = (1, 2, 3, \"Tannu\", \"Apple\",)\n",
        "\n",
        "print(\"List\", create_list)\n",
        "print(\"Tuple\", create_tuple)\n",
        "\n",
        "# Attempt to change an element in the list\n",
        "create_list[4] = \"Mango\"\n",
        "print(\"modified list\", create_list)\n",
        "\n",
        "# Attempt to change an element in the tuple\n",
        "create_tuple[4] = \"Mango\"\n",
        "print(\"modified tuple\", create_tuple)''' # showing error\n",
        "\n",
        "#Tuples are immutable, so attempting to change an element raises a TypeError.\n",
        "\n",
        "# Explanation:\n",
        "# Lists are mutable, meaning their elements can be changed after the list is created.\n",
        "# Tuples are immutable, meaning their elements cannot be changed after the tuple is created.\n",
        "# Attempting to modify a tuple will result in a TypeError.\n"
      ],
      "metadata": {
        "id": "sw8tnzidvMSz"
      },
      "execution_count": null,
      "outputs": []
    },
    {
      "cell_type": "code",
      "source": [],
      "metadata": {
        "id": "D2mrbDMnyGjw"
      },
      "execution_count": null,
      "outputs": []
    },
    {
      "cell_type": "code",
      "source": [
        "# 8. Write a program to demonstrate the use of logical operators\n",
        "\n",
        "# Demonstrate the use of logical operators (and, or, not)\n",
        "\n",
        "'''\n",
        "x = True\n",
        "y = False\n",
        "\n",
        "# AND operator\n",
        "print(\"x and y:\", x and y)  # Output: False\n",
        "\n",
        "# OR operator\n",
        "print(\"x or y:\", x or y)  # Output: True\n",
        "\n",
        "# NOT operator\n",
        "print(\"not x:\", not x)  # Output: False\n",
        "print(\"not y:\", not y)  # Output: True\n",
        "\n",
        "\n",
        "# Example using logical operators in a conditional statement\n",
        "age = 20\n",
        "is_student = True\n",
        "\n",
        "if age >= 18 and is_student:\n",
        "    print(\"You are an eligible student.\")\n",
        "elif age >= 18 or is_student:\n",
        "    print(\"You are either an adult or a student.\")\n",
        "else:\n",
        "    print(\"You are neither an adult nor a student.\")\n",
        "'''"
      ],
      "metadata": {
        "id": "ey7oIKp62vNc"
      },
      "execution_count": null,
      "outputs": []
    },
    {
      "cell_type": "code",
      "source": [],
      "metadata": {
        "id": "yDYVOYsH6sSd"
      },
      "execution_count": null,
      "outputs": []
    },
    {
      "cell_type": "code",
      "source": [
        " # 11. Write a program that checks if a number is positive, negative, or zero\n",
        "'''\n",
        " check_numbers = int(input(\"enter number : \")) # get input from the user\n",
        "\n",
        "if check_numbers > 0:\n",
        "  print(\"positive number\")\n",
        "elif check_numbers < 0:\n",
        "  print(\"negative number\")\n",
        "else:\n",
        "  print(\"zero\")\n",
        "'''"
      ],
      "metadata": {
        "colab": {
          "base_uri": "https://localhost:8080/",
          "height": 70
        },
        "id": "iiL3AOZi6tmr",
        "outputId": "5fab5647-713c-4458-cade-df2e996dae6a"
      },
      "execution_count": null,
      "outputs": [
        {
          "output_type": "execute_result",
          "data": {
            "text/plain": [
              "'\\ncheck_numbers = int(input(\"enter number : \")) # get input from the user\\n\\nif check_numbers > 0:\\n print(\"positive number\")\\nelif check_numbers < 0:\\n print(\"negative number\")\\nelse:\\n print(\"zero\")'"
            ],
            "application/vnd.google.colaboratory.intrinsic+json": {
              "type": "string"
            }
          },
          "metadata": {},
          "execution_count": 1
        }
      ]
    },
    {
      "cell_type": "code",
      "source": [
        "# 12.  Write a for loop to print numbers from 1 to 10\n",
        "'''\n",
        "for i in range(1,11):\n",
        "  print(i)\n",
        "'''"
      ],
      "metadata": {
        "colab": {
          "base_uri": "https://localhost:8080/"
        },
        "id": "FR8lDYdJ7YAP",
        "outputId": "910f3ded-aead-402a-85dc-c7ccfa68e2bc"
      },
      "execution_count": null,
      "outputs": [
        {
          "output_type": "stream",
          "name": "stdout",
          "text": [
            "1\n",
            "2\n",
            "3\n",
            "4\n",
            "5\n",
            "6\n",
            "7\n",
            "8\n",
            "9\n",
            "10\n"
          ]
        }
      ]
    },
    {
      "cell_type": "code",
      "source": [
        "# 13. 0 Write a Python program to find the sum of all even numbers between 1 and 50\n",
        "'''\n",
        "sum = 0\n",
        "for i in range(1,51):\n",
        "  if i % 2 == 0:\n",
        "    sum = sum + i\n",
        "print(sum)\n",
        "'''"
      ],
      "metadata": {
        "colab": {
          "base_uri": "https://localhost:8080/"
        },
        "id": "ozUoI7Y_7hnl",
        "outputId": "8885adaf-9507-49c1-ac86-89dbff855021"
      },
      "execution_count": null,
      "outputs": [
        {
          "output_type": "stream",
          "name": "stdout",
          "text": [
            "650\n"
          ]
        }
      ]
    },
    {
      "cell_type": "code",
      "source": [
        "# 14.  Write a program to reverse a string using a while loop\n",
        "'''\n",
        "def reverse_string_while(input_string):\n",
        "  reversed_string = \"\"\n",
        "  index = len(input_string) - 1\n",
        "  while index >= 0:\n",
        "    reversed_string += input_string[index]\n",
        "    index -= 1\n",
        "  return reversed_string\n",
        "\n",
        "# Example usage\n",
        "string_to_reverse = \"hello\"\n",
        "reversed_string = reverse_string_while(string_to_reverse)\n",
        "print(f\"Reversed string: {reversed_string}\")\n",
        "'''\n"
      ],
      "metadata": {
        "id": "eomU3eHl7tD6"
      },
      "execution_count": null,
      "outputs": []
    },
    {
      "cell_type": "code",
      "source": [
        "# 15. Write a Python program to calculate the factorial of a number provided by the user using a while loop\n",
        "\n",
        "'''\n",
        "factorial_calcculate = int(input(\"enter number : \")) # get in put from the user\n",
        "if factorial_calcculate < 0:\n",
        "  print(\"factorial not defined for nagetive nums\")\n",
        "elif factorial_calcculate == 0:\n",
        "  print(\"factorial of 0 is 1\")\n",
        "else:\n",
        "  factorial = 1\n",
        "  while factorial_calcculate > 0:\n",
        "    factorial = factorial * factorial_calcculate\n",
        "    factorial_calcculate = factorial_calcculate - 1\n",
        "  print(factorial)\n",
        "'''\n"
      ],
      "metadata": {
        "colab": {
          "base_uri": "https://localhost:8080/"
        },
        "id": "ZumKaMEn9bWP",
        "outputId": "d3d21294-c11c-4a4e-b8fd-6880fbe34e15"
      },
      "execution_count": null,
      "outputs": [
        {
          "output_type": "stream",
          "name": "stdout",
          "text": [
            "enter number : 5\n",
            "120\n"
          ]
        }
      ]
    }
  ]
}